{
 "cells": [
  {
   "cell_type": "markdown",
   "metadata": {},
   "source": [
    "# Snake game using search algorithms"
   ]
  },
  {
   "cell_type": "code",
   "execution_count": 1,
   "metadata": {},
   "outputs": [],
   "source": [
    "import enum\n",
    "import time\n",
    "from collections import deque\n",
    "import heapq\n",
    "import sys\n",
    "\n",
    "MAP_WIDTH: int\n",
    "MAP_HEIGHT: int\n",
    "test_file_pathes = [\"test1.txt\", \"test2.txt\", \"test3.txt\"]"
   ]
  },
  {
   "cell_type": "code",
   "execution_count": 2,
   "metadata": {},
   "outputs": [],
   "source": [
    "def get_input(test_file_path):\n",
    "    global MAP_WIDTH\n",
    "    global MAP_HEIGHT\n",
    "    f = open(test_file_path, \"r\")\n",
    "    MAP_HEIGHT, MAP_WIDTH = list(map(int, f.readline().split(\",\")))\n",
    "    starting_point = tuple(map(int, f.readline().split(\",\")))\n",
    "    seeds_count = int(f.readline())\n",
    "    seeds = []\n",
    "    for _ in range(seeds_count):\n",
    "        seeds.append(tuple(map(int, f.readline().split(\",\"))))\n",
    "    f.close()\n",
    "    return starting_point, seeds"
   ]
  },
  {
   "cell_type": "markdown",
   "metadata": {},
   "source": [
    "### - Initial State: all seeds are left and the snake is at the given starting position\n",
    "### - Actions: Up, Left, Down, Right\n",
    "### - Transition model: it's implented in the state class and generates a new state or false from current state and action\n",
    "### - Goal State: no seed is left"
   ]
  },
  {
   "cell_type": "markdown",
   "metadata": {},
   "source": [
    "### A helper class for actions"
   ]
  },
  {
   "cell_type": "code",
   "execution_count": 3,
   "metadata": {},
   "outputs": [],
   "source": [
    "class Direction(enum.IntEnum):\n",
    "    Up = 0\n",
    "    Right = 1\n",
    "    Down = 2\n",
    "    Left = 3\n",
    "\n",
    "    @staticmethod\n",
    "    def actions():\n",
    "        return [Direction.Right, Direction.Down, Direction.Left, Direction.Up]\n",
    "\n",
    "    @staticmethod\n",
    "    def delta_positions():\n",
    "        return {\n",
    "            Direction.Up: (-1, 0),\n",
    "            Direction.Right: (0, 1),\n",
    "            Direction.Down: (1, 0),\n",
    "            Direction.Left: (0, -1),\n",
    "        }\n",
    "\n",
    "    @staticmethod\n",
    "    def opposite_directions():\n",
    "        return {\n",
    "            Direction.Up: Direction.Down,\n",
    "            Direction.Right: Direction.Left,\n",
    "            Direction.Down: Direction.Up,\n",
    "            Direction.Left: Direction.Right,\n",
    "        }"
   ]
  },
  {
   "cell_type": "markdown",
   "metadata": {},
   "source": [
    "### State class  \n",
    "We keep snake positions in a list(ordered) and seed positions in another list  \n",
    "there is also a boolean named ate_before to check whether seed was eaten in last step or not  \n",
    "the transition method generates a new State from a given action and current State"
   ]
  },
  {
   "cell_type": "code",
   "execution_count": 4,
   "metadata": {},
   "outputs": [],
   "source": [
    "class State:\n",
    "    def __eq__(self, other: \"State\"):\n",
    "        return (self.snake_positions == other.snake_positions) and (\n",
    "            set(self.seed_positions) == set(other.seed_positions)\n",
    "        )\n",
    "\n",
    "    def __hash__(self):\n",
    "        return hash((tuple(self.snake_positions), tuple(self.seed_positions)))\n",
    "\n",
    "    def __init__(\n",
    "        self, _snake_positions: list, _seed_positions: list, _ate_before: bool\n",
    "    ):\n",
    "        self.snake_positions = _snake_positions\n",
    "        self.seed_positions = _seed_positions\n",
    "        self.ate_before = _ate_before\n",
    "\n",
    "    def is_goal(self):\n",
    "        return len(self.seed_positions) == 0\n",
    "\n",
    "    def correct_wall_effect(self, head: tuple):\n",
    "        if head[0] == -1:\n",
    "            return (MAP_HEIGHT - 1, head[1])\n",
    "        elif head[0] == MAP_HEIGHT:\n",
    "            return (0, head[1])\n",
    "        elif head[1] == -1:\n",
    "            return (head[0], MAP_WIDTH - 1)\n",
    "        elif head[1] == MAP_WIDTH:\n",
    "            return (head[0], 0)\n",
    "        else:\n",
    "            return head\n",
    "\n",
    "    def calculate_heuristic(self, heuristic_func):\n",
    "        return heuristic_func(self)\n",
    "\n",
    "    def transition(self, action: Direction, parent_action):\n",
    "        if (len(self.snake_positions) > 1) and (\n",
    "            action == Direction.opposite_directions()[parent_action]\n",
    "        ):\n",
    "            return False\n",
    "        delta_position = Direction.delta_positions()[action]\n",
    "        old_head = self.snake_positions[-1]\n",
    "        new_head = (old_head[0] + delta_position[0], old_head[1] + delta_position[1])\n",
    "        new_head = self.correct_wall_effect(new_head)\n",
    "        updated_positions = (\n",
    "            self.snake_positions[:] if self.ate_before else self.snake_positions[1:]\n",
    "        )\n",
    "        if new_head in updated_positions:\n",
    "            return False\n",
    "        seeds_just_positions = list(\n",
    "            map(lambda seed: (seed[0], seed[1]), self.seed_positions)\n",
    "        )\n",
    "        new_snake_positions = []\n",
    "        if self.ate_before:\n",
    "            new_snake_positions = self.snake_positions[:] + [new_head]\n",
    "        else:\n",
    "            new_snake_positions = self.snake_positions[1:] + [new_head]\n",
    "        if new_head not in seeds_just_positions:\n",
    "            return State(new_snake_positions, self.seed_positions[:], False)\n",
    "        else:\n",
    "            index = seeds_just_positions.index(new_head)\n",
    "            seed = self.seed_positions[index]\n",
    "            if seed[2] == 2:\n",
    "                new_seed_positions = self.seed_positions[:]\n",
    "                del new_seed_positions[index]\n",
    "                new_seed_positions += [(seed[0], seed[1], 1)]\n",
    "                return State(new_snake_positions, new_seed_positions, True)\n",
    "            else:\n",
    "                new_seed_positions = self.seed_positions[:]\n",
    "                del new_seed_positions[index]\n",
    "                return State(new_snake_positions, new_seed_positions, True)"
   ]
  },
  {
   "cell_type": "markdown",
   "metadata": {},
   "source": [
    "### Node class\n",
    "this class stores it's state, parent, action which lead to this node, path cost until this node"
   ]
  },
  {
   "cell_type": "code",
   "execution_count": 5,
   "metadata": {},
   "outputs": [],
   "source": [
    "class Node:\n",
    "    def __init__(\n",
    "        self, _state: State, _parent: \"Node\", _action: Direction, _path_cost: int\n",
    "    ):\n",
    "        self.state = _state\n",
    "        self.parent = _parent\n",
    "        self.action = _action\n",
    "        self.path_cost = _path_cost\n",
    "\n",
    "    def __lt__(self, other):\n",
    "        return self"
   ]
  },
  {
   "cell_type": "markdown",
   "metadata": {},
   "source": [
    "### Helper for running searches"
   ]
  },
  {
   "cell_type": "code",
   "execution_count": 6,
   "metadata": {},
   "outputs": [],
   "source": [
    "def run(algorithm_func, start_node, *args, **kwargs):\n",
    "    tic = time.time()\n",
    "    final, states_met, distinct_states_met = algorithm_func(start_node, *args, **kwargs)\n",
    "    toc = time.time()\n",
    "    tic1 = time.time()\n",
    "    final, states_met, distinct_states_met = algorithm_func(start_node, *args, **kwargs)\n",
    "    toc1 = time.time()\n",
    "    answer_actions = []\n",
    "    answer_path_distance = -1\n",
    "    while final is not None:\n",
    "        answer_path_distance += 1\n",
    "        answer_actions = [final.action] + answer_actions\n",
    "        final = final.parent\n",
    "    print(\"Distance: %d\" %(answer_path_distance))\n",
    "    print(\"Path: \", end=\"\")\n",
    "    for action in answer_actions[1:]:\n",
    "        print(action.name, end=\" \")\n",
    "    print()\n",
    "    print(\"States met: \" + str(states_met))\n",
    "    print(\"Distinct States met: \" + str(distinct_states_met))\n",
    "    print(\"Average Time taken: \" + str((toc - tic + toc1 - tic1)/2))"
   ]
  },
  {
   "cell_type": "code",
   "execution_count": 7,
   "metadata": {},
   "outputs": [],
   "source": [
    "def run_for_tests(algorithm_func, *args, **kwargs):\n",
    "    i = 1\n",
    "    for test_path in test_file_pathes:\n",
    "        print(\"TEST NUMBER %d\" %(i))\n",
    "        starting_point, seeds = get_input(test_path)\n",
    "        start_node = Node(State([starting_point], seeds, False), None, None, 0)\n",
    "        run(algorithm_func, start_node, *args, **kwargs)\n",
    "        print(\"--------------------------------------------------------------------------------------------------------------------------\")\n",
    "        i += 1"
   ]
  },
  {
   "cell_type": "markdown",
   "metadata": {},
   "source": [
    "## Uninformed Search"
   ]
  },
  {
   "cell_type": "markdown",
   "metadata": {},
   "source": [
    "### BFS\n",
    "we use a queue for implementing the frontier and in each state we expand the shallowest unexpanded node  \n",
    "bfs is optimal when cost is 1  \n",
    "time complexity: O(b^d)  \n",
    "space complexity: O(b^d)  \n",
    "It's space is expensive  "
   ]
  },
  {
   "cell_type": "code",
   "execution_count": 8,
   "metadata": {},
   "outputs": [],
   "source": [
    "def bfs(start_node: Node):\n",
    "    states_met = 0\n",
    "    distinct_states_met = 0\n",
    "    if start_node.state.is_goal():\n",
    "        return start_node\n",
    "    frontier = deque([start_node])\n",
    "    frontier_state_set = set()\n",
    "    frontier_state_set.add(start_node.state)\n",
    "    explored = set()\n",
    "    while True:\n",
    "        if not frontier:\n",
    "            return False\n",
    "        current = frontier.pop()\n",
    "        frontier_state_set.remove(current.state)\n",
    "        explored.add(current.state)\n",
    "        for action in Direction.actions():\n",
    "            new_state = current.state.transition(action, current.action)\n",
    "            if new_state is not False:\n",
    "                states_met += 1\n",
    "                child = Node(new_state, current, action, current.path_cost + 1)\n",
    "                if (\n",
    "                    child.state not in explored\n",
    "                    and child.state not in frontier_state_set\n",
    "                ):\n",
    "                    distinct_states_met += 1\n",
    "                    if child.state.is_goal():\n",
    "                        return child, states_met, distinct_states_met\n",
    "                    frontier.appendleft(child)\n",
    "                    frontier_state_set.add(child.state)"
   ]
  },
  {
   "cell_type": "code",
   "execution_count": 9,
   "metadata": {},
   "outputs": [
    {
     "name": "stdout",
     "output_type": "stream",
     "text": [
      "BFS:\n",
      "TEST NUMBER 1\n",
      "Distance: 12\n",
      "Path: Down Left Right Right Down Down Right Right Down Right Down Down \n",
      "States met: 8670\n",
      "Distinct States met: 4325\n",
      "Average Time taken: 0.06652545928955078\n",
      "--------------------------------------------------------------------------------------------------------------------------\n",
      "TEST NUMBER 2\n",
      "Distance: 15\n",
      "Path: Right Left Left Up Right Up Left Left Up Up Left Left Left Left Up \n",
      "States met: 101649\n",
      "Distinct States met: 46072\n",
      "Average Time taken: 0.8783884048461914\n",
      "--------------------------------------------------------------------------------------------------------------------------\n",
      "TEST NUMBER 3\n",
      "Distance: 25\n",
      "Path: Right Up Right Down Down Down Right Right Down Right Right Right Down Down Right Right Up Left Left Down Left Left Left Up Up \n",
      "States met: 472218\n",
      "Distinct States met: 213962\n",
      "Average Time taken: 4.549342155456543\n",
      "--------------------------------------------------------------------------------------------------------------------------\n"
     ]
    }
   ],
   "source": [
    "print(\"BFS:\")\n",
    "run_for_tests(bfs)"
   ]
  },
  {
   "cell_type": "markdown",
   "metadata": {},
   "source": [
    "### Ids\n",
    "we use a stack for implementing the frontier and in each state we expand from top  in dfs\n",
    "dfs is not optimal  \n",
    "time complexity: O(b^m), m is the maximum depth  \n",
    "space complexity: O(bm)  \n",
    "It's space is less expensive than bfs    \n",
    "\n",
    "In IDS we give a maximum depth to our dfs so it does not go to the end like dfs  \n",
    "ids is optimal if cost is 1  \n",
    "time complexity: O(b^d)  \n",
    "space complexity: O(b*d)  \n",
    "it somehow keeps the best charecteristics of bfs and dfs"
   ]
  },
  {
   "cell_type": "code",
   "execution_count": 10,
   "metadata": {},
   "outputs": [],
   "source": [
    "def dfs(start_node: Node, depth: int):\n",
    "    states_met = 0\n",
    "    distinct_states_met = 0\n",
    "    if start_node.state.is_goal():\n",
    "        return start_node\n",
    "    frontier = deque([start_node])\n",
    "    explored = dict()\n",
    "    while True:\n",
    "        if not frontier:\n",
    "            return False, 0, 0\n",
    "        current = frontier.pop()\n",
    "        if current.path_cost == depth:\n",
    "            continue\n",
    "        explored[current.state] = current.path_cost\n",
    "        for action in Direction.actions():\n",
    "            new_state = current.state.transition(action, current.action)\n",
    "            if new_state is not False:\n",
    "                states_met += 1\n",
    "                child = Node(new_state, current, action, current.path_cost + 1)\n",
    "                if (\n",
    "                    child.state not in explored\n",
    "                    or child.path_cost < explored[child.state]\n",
    "                ):\n",
    "                    distinct_states_met += 1\n",
    "                    if child.state.is_goal():\n",
    "                        return child, states_met, distinct_states_met\n",
    "                    frontier.append(child)\n",
    "def ids(start_node: Node):\n",
    "    states_met = 0\n",
    "    distinct_states_met = 0\n",
    "    for depth in range(sys.maxsize):\n",
    "        current_states = 0\n",
    "        node, current_states, distinct_states_met = dfs(start_node, depth)\n",
    "        states_met = states_met + current_states\n",
    "        if node != False:\n",
    "            return node, states_met, distinct_states_met\n",
    "    return False"
   ]
  },
  {
   "cell_type": "code",
   "execution_count": 11,
   "metadata": {},
   "outputs": [
    {
     "name": "stdout",
     "output_type": "stream",
     "text": [
      "IDS:\n",
      "TEST NUMBER 1\n",
      "Distance: 12\n",
      "Path: Left Down Up Up Left Up Left Left Up Up Left Left \n",
      "States met: 18298\n",
      "Distinct States met: 11708\n",
      "Average Time taken: 0.32753264904022217\n",
      "--------------------------------------------------------------------------------------------------------------------------\n",
      "TEST NUMBER 2\n",
      "Distance: 15\n",
      "Path: Up Right Down Left Left Up Up Up Up Left Up Left Left Left Left \n",
      "States met: 121842\n",
      "Distinct States met: 74125\n",
      "Average Time taken: 3.8491894006729126\n",
      "--------------------------------------------------------------------------------------------------------------------------\n",
      "TEST NUMBER 3\n",
      "Distance: 25\n",
      "Path: Up Right Down Down Down Right Down Right Right Down Down Right Right Right Up Right Right Down Left Left Left Up Up Left Left \n",
      "States met: 792297\n",
      "Distinct States met: 455397\n",
      "Average Time taken: 24.947928190231323\n",
      "--------------------------------------------------------------------------------------------------------------------------\n"
     ]
    }
   ],
   "source": [
    "print(\"IDS:\")\n",
    "run_for_tests(ids)"
   ]
  },
  {
   "cell_type": "markdown",
   "metadata": {},
   "source": [
    "## Informed"
   ]
  },
  {
   "cell_type": "markdown",
   "metadata": {},
   "source": [
    "### A*\n",
    "we use a list and keep it sorted using heapq  \n",
    "we keep the list order by g(n) + heuristic(n)  \n",
    "A* is optimal if heuristic is admissible and non negative in tree search   \n",
    "in graph search A* is optimal if heuristic is consistent  "
   ]
  },
  {
   "cell_type": "code",
   "execution_count": 12,
   "metadata": {},
   "outputs": [],
   "source": [
    "def a_star(start_node: Node, heuristic_func, weight=1):\n",
    "    states_met = 0\n",
    "    distinct_states_met = 0\n",
    "    if start_node.state.is_goal():\n",
    "        return start_node\n",
    "    frontier = []\n",
    "    heapq.heappush(\n",
    "        frontier,\n",
    "        (\n",
    "            start_node.path_cost\n",
    "            + weight * start_node.state.calculate_heuristic(heuristic_func),\n",
    "            start_node,\n",
    "        ),\n",
    "    )\n",
    "    frontier_state_set = set()\n",
    "    frontier_state_set.add(start_node.state)\n",
    "    explored = set()\n",
    "    while True:\n",
    "        if not frontier:\n",
    "            return False, 0, 0\n",
    "        current = heapq.heappop(frontier)\n",
    "        frontier_state_set.remove(current[1].state)\n",
    "        explored.add(current[1].state)\n",
    "        for action in Direction.actions():\n",
    "            new_state = current[1].state.transition(action, current[1].action)\n",
    "            if new_state is not False:\n",
    "                child = Node(\n",
    "                    new_state, current[1], action, current[1].path_cost + 1\n",
    "                )\n",
    "                states_met += 1\n",
    "                if (\n",
    "                    child.state not in explored\n",
    "                    and child.state not in frontier_state_set\n",
    "                ):\n",
    "                    distinct_states_met += 1\n",
    "                    if child.state.is_goal():\n",
    "                        return child, states_met, distinct_states_met\n",
    "                    heapq.heappush(\n",
    "                        frontier,\n",
    "                        (\n",
    "                            child.path_cost\n",
    "                            + weight\n",
    "                            * child.state.calculate_heuristic(heuristic_func),\n",
    "                            child,\n",
    "                        ),\n",
    "                    )\n",
    "                    frontier_state_set.add(child.state)"
   ]
  },
  {
   "cell_type": "markdown",
   "metadata": {},
   "source": [
    "#### Heuristics"
   ]
  },
  {
   "cell_type": "code",
   "execution_count": 13,
   "metadata": {},
   "outputs": [],
   "source": [
    "def heuristic1(state: State):\n",
    "    return len(state.seed_positions)\n",
    "\n",
    "def heuristic2(state: State):\n",
    "    return len(state.seed_positions) - len(state.snake_positions)"
   ]
  },
  {
   "cell_type": "markdown",
   "metadata": {},
   "source": [
    "#### Heuristics explained\n",
    "heuristic 1 is consistent because it's always non encreasing in it's path  \n",
    "so because of it's consistency it causes optimal answers  \n",
    "heuristic 2 is admissible because it never overestimates the cost  \n",
    "but heuristic 2 is negative and it may not always make the answer optimal  \n",
    "as we can see less states are met in heuristic2 and it was a more realistic estimate"
   ]
  },
  {
   "cell_type": "code",
   "execution_count": 14,
   "metadata": {},
   "outputs": [
    {
     "name": "stdout",
     "output_type": "stream",
     "text": [
      "A* with heuristic1:\n",
      "TEST NUMBER 1\n",
      "Distance: 12\n",
      "Path: Left Down Up Up Left Left Up Left Up Up Left Left \n",
      "States met: 4585\n",
      "Distinct States met: 2588\n",
      "Average Time taken: 0.04141724109649658\n",
      "--------------------------------------------------------------------------------------------------------------------------\n",
      "TEST NUMBER 2\n",
      "Distance: 15\n",
      "Path: Left Right Right Up Left Left Left Up Up Up Left Left Up Left Left \n",
      "States met: 51517\n",
      "Distinct States met: 26797\n",
      "Average Time taken: 0.4773130416870117\n",
      "--------------------------------------------------------------------------------------------------------------------------\n",
      "TEST NUMBER 3\n",
      "Distance: 25\n",
      "Path: Up Right Down Down Right Down Down Right Right Right Down Right Down Right Up Right Right Down Left Left Left Left Left Up Up \n",
      "States met: 269463\n",
      "Distinct States met: 132120\n",
      "Average Time taken: 2.9520214796066284\n",
      "--------------------------------------------------------------------------------------------------------------------------\n"
     ]
    }
   ],
   "source": [
    "print(\"A* with heuristic1:\")\n",
    "run_for_tests(a_star, heuristic1)"
   ]
  },
  {
   "cell_type": "code",
   "execution_count": 15,
   "metadata": {},
   "outputs": [
    {
     "name": "stdout",
     "output_type": "stream",
     "text": [
      "A* with heuristic2:\n",
      "TEST NUMBER 1\n",
      "Distance: 12\n",
      "Path: Left Down Up Left Up Up Left Left Left Up Up Left \n",
      "States met: 2291\n",
      "Distinct States met: 1595\n",
      "Average Time taken: 0.027997851371765137\n",
      "--------------------------------------------------------------------------------------------------------------------------\n",
      "TEST NUMBER 2\n",
      "Distance: 15\n",
      "Path: Up Right Down Left Left Up Up Left Up Up Left Up Left Left Left \n",
      "States met: 16124\n",
      "Distinct States met: 10174\n",
      "Average Time taken: 0.15652191638946533\n",
      "--------------------------------------------------------------------------------------------------------------------------\n",
      "TEST NUMBER 3\n",
      "Distance: 25\n",
      "Path: Up Right Down Down Right Down Right Right Down Right Right Down Down Right Right Right Up Left Left Down Left Left Up Up Left \n",
      "States met: 101398\n",
      "Distinct States met: 54149\n",
      "Average Time taken: 1.0170587301254272\n",
      "--------------------------------------------------------------------------------------------------------------------------\n"
     ]
    }
   ],
   "source": [
    "print(\"A* with heuristic2:\")\n",
    "run_for_tests(a_star, heuristic2)"
   ]
  },
  {
   "cell_type": "markdown",
   "metadata": {},
   "source": [
    "### Weighted A*  \n",
    "The idea of this search is to speed up search at the expense of optimality  \n",
    "the difference is that we use weight and multiply it by heuristic  \n",
    "f = g + alpha * heuristic"
   ]
  },
  {
   "cell_type": "code",
   "execution_count": 16,
   "metadata": {},
   "outputs": [
    {
     "name": "stdout",
     "output_type": "stream",
     "text": [
      "A* with heuristic1 with weight=2.1:\n",
      "TEST NUMBER 1\n",
      "Distance: 12\n",
      "Path: Left Down Up Left Up Up Left Left Left Up Up Left \n",
      "States met: 2441\n",
      "Distinct States met: 1570\n",
      "Average Time taken: 0.02336442470550537\n",
      "--------------------------------------------------------------------------------------------------------------------------\n",
      "TEST NUMBER 2\n",
      "Distance: 15\n",
      "Path: Right Up Left Left Down Left Up Up Up Up Left Left Up Left Left \n",
      "States met: 17170\n",
      "Distinct States met: 10573\n",
      "Average Time taken: 0.15696382522583008\n",
      "--------------------------------------------------------------------------------------------------------------------------\n",
      "TEST NUMBER 3\n",
      "Distance: 25\n",
      "Path: Up Right Down Down Down Right Down Right Right Down Down Right Right Right Up Right Right Down Left Left Left Up Left Up Left \n",
      "States met: 129620\n",
      "Distinct States met: 64358\n",
      "Average Time taken: 1.228269100189209\n",
      "--------------------------------------------------------------------------------------------------------------------------\n"
     ]
    }
   ],
   "source": [
    "print(\"A* with heuristic1 with weight=2.1:\")\n",
    "run_for_tests(a_star, heuristic1, 2.1)"
   ]
  },
  {
   "cell_type": "code",
   "execution_count": 17,
   "metadata": {},
   "outputs": [
    {
     "name": "stdout",
     "output_type": "stream",
     "text": [
      "A* with heuristic1 with weight=5:\n",
      "TEST NUMBER 1\n",
      "Distance: 14\n",
      "Path: Up Up Right Right Down Right Down Down Right Down Down Down Down Down \n",
      "States met: 2596\n",
      "Distinct States met: 1237\n",
      "Average Time taken: 0.03234517574310303\n",
      "--------------------------------------------------------------------------------------------------------------------------\n",
      "TEST NUMBER 2\n",
      "Distance: 17\n",
      "Path: Up Left Down Right Right Up Up Left Left Left Up Up Left Up Left Left Left \n",
      "States met: 1782\n",
      "Distinct States met: 1495\n",
      "Average Time taken: 0.01472020149230957\n",
      "--------------------------------------------------------------------------------------------------------------------------\n",
      "TEST NUMBER 3\n",
      "Distance: 26\n",
      "Path: Up Right Down Down Down Right Right Down Right Down Left Up Right Right Right Down Right Down Right Up Right Up Left Left Down Down \n",
      "States met: 34537\n",
      "Distinct States met: 19853\n",
      "Average Time taken: 0.3186228275299072\n",
      "--------------------------------------------------------------------------------------------------------------------------\n"
     ]
    }
   ],
   "source": [
    "print(\"A* with heuristic1 with weight=5:\")\n",
    "run_for_tests(a_star, heuristic1, 5)"
   ]
  },
  {
   "cell_type": "code",
   "execution_count": 18,
   "metadata": {},
   "outputs": [
    {
     "name": "stdout",
     "output_type": "stream",
     "text": [
      "A* with heuristic2 with weight=2.1:\n",
      "TEST NUMBER 1\n",
      "Distance: 14\n",
      "Path: Up Up Right Right Down Right Down Right Down Down Down Down Down Down \n",
      "States met: 941\n",
      "Distinct States met: 718\n",
      "Average Time taken: 0.01059424877166748\n",
      "--------------------------------------------------------------------------------------------------------------------------\n",
      "TEST NUMBER 2\n",
      "Distance: 17\n",
      "Path: Up Left Down Right Right Up Left Up Up Up Left Left Left Left Left Up Left \n",
      "States met: 3623\n",
      "Distinct States met: 2632\n",
      "Average Time taken: 0.03089439868927002\n",
      "--------------------------------------------------------------------------------------------------------------------------\n",
      "TEST NUMBER 3\n",
      "Distance: 25\n",
      "Path: Up Right Down Down Down Right Right Down Right Right Right Down Right Down Right Right Up Left Left Down Left Up Left Up Left \n",
      "States met: 8405\n",
      "Distinct States met: 5655\n",
      "Average Time taken: 0.07089519500732422\n",
      "--------------------------------------------------------------------------------------------------------------------------\n"
     ]
    }
   ],
   "source": [
    "print(\"A* with heuristic2 with weight=2.1:\")\n",
    "run_for_tests(a_star, heuristic2, 2.1)"
   ]
  },
  {
   "cell_type": "code",
   "execution_count": 19,
   "metadata": {},
   "outputs": [
    {
     "name": "stdout",
     "output_type": "stream",
     "text": [
      "A* with heuristic2 with weight=5:\n",
      "TEST NUMBER 1\n",
      "Distance: 14\n",
      "Path: Up Up Right Right Down Right Down Right Down Down Down Down Down Down \n",
      "States met: 206\n",
      "Distinct States met: 194\n",
      "Average Time taken: 0.0031766891479492188\n",
      "--------------------------------------------------------------------------------------------------------------------------\n",
      "TEST NUMBER 2\n",
      "Distance: 17\n",
      "Path: Up Left Down Right Right Up Left Up Up Left Left Up Left Up Left Left Left \n",
      "States met: 1011\n",
      "Distinct States met: 919\n",
      "Average Time taken: 0.013422846794128418\n",
      "--------------------------------------------------------------------------------------------------------------------------\n",
      "TEST NUMBER 3\n",
      "Distance: 30\n",
      "Path: Up Right Down Down Down Right Right Down Right Right Down Left Up Left Left Left Left Left Down Left Left Down Right Right Down Left Down Left Up Up \n",
      "States met: 4499\n",
      "Distinct States met: 3963\n",
      "Average Time taken: 0.03813648223876953\n",
      "--------------------------------------------------------------------------------------------------------------------------\n"
     ]
    }
   ],
   "source": [
    "print(\"A* with heuristic2 with weight=5:\")\n",
    "run_for_tests(a_star, heuristic2, 5)"
   ]
  },
  {
   "cell_type": "markdown",
   "metadata": {},
   "source": [
    "As we see in the results of weighted A* \n",
    "when alpha was 2.1 the optimality is not changed a lot  \n",
    "but when alpha is 5 it runs faster and states are less but the optimality is gone"
   ]
  }
 ],
 "metadata": {
  "kernelspec": {
   "display_name": "Python 3 (ipykernel)",
   "language": "python",
   "name": "python3"
  },
  "language_info": {
   "codemirror_mode": {
    "name": "ipython",
    "version": 3
   },
   "file_extension": ".py",
   "mimetype": "text/x-python",
   "name": "python",
   "nbconvert_exporter": "python",
   "pygments_lexer": "ipython3",
   "version": "3.9.6"
  }
 },
 "nbformat": 4,
 "nbformat_minor": 4
}
